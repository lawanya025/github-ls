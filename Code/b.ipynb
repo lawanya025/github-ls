{
 "cells": [
  {
   "cell_type": "code",
   "execution_count": null,
   "id": "88937c38",
   "metadata": {},
   "outputs": [],
   "source": [
    "import pandas as pd\n",
    "from sklearn.tree import DecisonTreeClassifier\n",
    "from sklearn.externals import joblib\n",
    "\n",
    "#music_data = pd.read_csv('music.csv')\n",
    "#x = music_data.drop(columns=['genre'])\n",
    "#y = music_data['genre']\n",
    "\n",
    "#model = DecisonTreeClassifier()\n",
    "#model.fit(x, y)\n",
    "\n",
    "model = joblib.load('musicc-recommender.joblib')\n",
    "predictions = model.predict([[21, 1]])\n",
    "predictions\n"
   ]
  }
 ],
 "metadata": {
  "kernelspec": {
   "display_name": "Python 3 (ipykernel)",
   "language": "python",
   "name": "python3"
  },
  "language_info": {
   "codemirror_mode": {
    "name": "ipython",
    "version": 3
   },
   "file_extension": ".py",
   "mimetype": "text/x-python",
   "name": "python",
   "nbconvert_exporter": "python",
   "pygments_lexer": "ipython3",
   "version": "3.11.3"
  }
 },
 "nbformat": 4,
 "nbformat_minor": 5
}
